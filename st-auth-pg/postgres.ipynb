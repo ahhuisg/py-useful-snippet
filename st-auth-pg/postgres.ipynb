{
 "cells": [
  {
   "cell_type": "code",
   "execution_count": 1,
   "id": "40d3fe1d-2727-4f5a-878b-4b0a0d2357cf",
   "metadata": {},
   "outputs": [],
   "source": [
    "import streamlit as st\n",
    "import psycopg2\n",
    "import bcrypt\n",
    "import os"
   ]
  },
  {
   "cell_type": "code",
   "execution_count": 6,
   "id": "6b9bdeff-777b-4957-8ea8-6dcbca8d0e30",
   "metadata": {},
   "outputs": [],
   "source": [
    "# Database connection\n",
    "def get_db_connection():\n",
    "    return psycopg2.connect(\n",
    "        dbname=\"postgres\",\n",
    "        user=\"postgres.ivuidcuoxxedezilkoze\",\n",
    "        password=os.environ[\"SUPABASE_DB_PW\"],\n",
    "        host=\"aws-1-ap-southeast-1.pooler.supabase.com\",\n",
    "        port=\"5432\"\n",
    "    )\n",
    "\n",
    "def fetch_user(username):\n",
    "    conn = get_db_connection()\n",
    "    cur = conn.cursor()\n",
    "    cur.execute(\"SELECT user_name, password FROM users WHERE user_name = %s\", (username,))\n",
    "    user = cur.fetchone()\n",
    "    cur.close()\n",
    "    conn.close()\n",
    "    return user"
   ]
  },
  {
   "cell_type": "code",
   "execution_count": 7,
   "id": "7b0a736b-a7d6-49a2-99dd-28382026a50a",
   "metadata": {},
   "outputs": [],
   "source": [
    "fetch_user(\"test\")"
   ]
  },
  {
   "cell_type": "code",
   "execution_count": 8,
   "id": "a7013576-e6b5-4abd-b287-a1f9f7387254",
   "metadata": {},
   "outputs": [
    {
     "name": "stdout",
     "output_type": "stream",
     "text": [
      "Hashed Password: $2b$12$IQe39fHz20EomlD7Uq6kGOsATvSLOe0QXl9h2YbwIj4KNl6Ao8SGy\n"
     ]
    }
   ],
   "source": [
    "import bcrypt\n",
    "\n",
    "# Plain text password (from signup form/user input)\n",
    "password = \"test123\"\n",
    "\n",
    "# Always encode to bytes\n",
    "password_bytes = password.encode(\"utf-8\")\n",
    "\n",
    "# Generate a salt and hash the password\n",
    "salt = bcrypt.gensalt()\n",
    "hashed_password = bcrypt.hashpw(password_bytes, salt)\n",
    "\n",
    "# Store hashed_password.decode() in your Postgres table, not the plain password\n",
    "print(\"Hashed Password:\", hashed_password.decode())  # this will look like $2b$12...\n"
   ]
  },
  {
   "cell_type": "code",
   "execution_count": 9,
   "id": "590bb606-b4a7-48b0-be87-fa4a9629b59f",
   "metadata": {},
   "outputs": [
    {
     "data": {
      "text/plain": [
       "b'$2b$12$IQe39fHz20EomlD7Uq6kGO'"
      ]
     },
     "execution_count": 9,
     "metadata": {},
     "output_type": "execute_result"
    }
   ],
   "source": [
    "salt"
   ]
  },
  {
   "cell_type": "code",
   "execution_count": 24,
   "id": "bcd07393-2402-4d77-b4a5-d218220761b8",
   "metadata": {},
   "outputs": [
    {
     "data": {
      "text/plain": [
       "bytes"
      ]
     },
     "execution_count": 24,
     "metadata": {},
     "output_type": "execute_result"
    }
   ],
   "source": [
    "type(salt)"
   ]
  },
  {
   "cell_type": "code",
   "execution_count": 27,
   "id": "200e7920-e739-4f5e-95f2-3abb51147802",
   "metadata": {},
   "outputs": [
    {
     "data": {
      "text/plain": [
       "('$2b$12$IQe39fHz20EomlD7Uq6kGO', str)"
      ]
     },
     "execution_count": 27,
     "metadata": {},
     "output_type": "execute_result"
    }
   ],
   "source": [
    "salt.decode(), type(salt.decode())"
   ]
  },
  {
   "cell_type": "code",
   "execution_count": null,
   "id": "a1334c06-7ede-47ad-a7b3-a88d991f40b7",
   "metadata": {},
   "outputs": [],
   "source": []
  }
 ],
 "metadata": {
  "kernelspec": {
   "display_name": "Python 3 (ipykernel)",
   "language": "python",
   "name": "python3"
  },
  "language_info": {
   "codemirror_mode": {
    "name": "ipython",
    "version": 3
   },
   "file_extension": ".py",
   "mimetype": "text/x-python",
   "name": "python",
   "nbconvert_exporter": "python",
   "pygments_lexer": "ipython3",
   "version": "3.12.11"
  }
 },
 "nbformat": 4,
 "nbformat_minor": 5
}
